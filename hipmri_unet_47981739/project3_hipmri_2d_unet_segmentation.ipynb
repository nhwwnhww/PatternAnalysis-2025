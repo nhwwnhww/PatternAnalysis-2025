{
 "cells": [
  {
   "cell_type": "markdown",
   "id": "0fe6bb60",
   "metadata": {},
   "source": [
    "# Environment Check"
   ]
  },
  {
   "cell_type": "code",
   "execution_count": 1,
   "id": "64e7d95a",
   "metadata": {},
   "outputs": [
    {
     "name": "stdout",
     "output_type": "stream",
     "text": [
      "torch: 2.5.1\n",
      "torch.version.cuda: 12.1\n",
      "cuda.is_available: True\n",
      "device_count: 1\n",
      "device 0: NVIDIA GeForce RTX 3060 Ti capability: (8, 6)\n",
      "\n",
      "=== nvidia-smi ===\n",
      " Fri Oct 17 22:12:08 2025       \n",
      "python: c:\\Users\\nhwen\\anaconda3\\envs\\comp3710\\python.exe\n",
      "platform: Windows-10-10.0.26200-SP0\n"
     ]
    }
   ],
   "source": [
    "import torch, sys, platform, subprocess, os\n",
    "\n",
    "print(\"torch:\", torch.__version__)\n",
    "print(\"torch.version.cuda:\", torch.version.cuda)\n",
    "print(\"cuda.is_available:\", torch.cuda.is_available())\n",
    "print(\"device_count:\", torch.cuda.device_count())\n",
    "if torch.cuda.is_available():\n",
    "    print(\"device 0:\", torch.cuda.get_device_name(0),\n",
    "          \"capability:\", torch.cuda.get_device_capability(0))\n",
    "try:\n",
    "    out = subprocess.check_output(\"nvidia-smi\", shell=True).decode().splitlines()[0]\n",
    "    print(\"\\n=== nvidia-smi ===\\n\", out)\n",
    "except Exception as e:\n",
    "    print(\"nvidia-smi not found / driver not working:\", e)\n",
    "print(\"python:\", sys.executable)\n",
    "print(\"platform:\", platform.platform())"
   ]
  }
 ],
 "metadata": {
  "kernelspec": {
   "display_name": "comp3710",
   "language": "python",
   "name": "python3"
  },
  "language_info": {
   "codemirror_mode": {
    "name": "ipython",
    "version": 3
   },
   "file_extension": ".py",
   "mimetype": "text/x-python",
   "name": "python",
   "nbconvert_exporter": "python",
   "pygments_lexer": "ipython3",
   "version": "3.9.23"
  }
 },
 "nbformat": 4,
 "nbformat_minor": 5
}
